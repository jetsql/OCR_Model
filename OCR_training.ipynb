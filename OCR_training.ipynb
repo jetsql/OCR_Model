{
 "cells": [
  {
   "cell_type": "code",
   "execution_count": 1,
   "metadata": {},
   "outputs": [],
   "source": [
    "import PIL\n",
    "from PIL import Image\n",
    "import glob\n",
    "import shutil,os\n",
    "from time import sleep"
   ]
  },
  {
   "cell_type": "code",
   "execution_count": 6,
   "metadata": {},
   "outputs": [],
   "source": [
    "import cv2\n",
    "import numpy as np"
   ]
  },
  {
   "cell_type": "code",
   "execution_count": 3,
   "metadata": {},
   "outputs": [],
   "source": [
    "def emptydir(dirname):\n",
    "    if os.path.isdir(dirname):\n",
    "        shutil.rmtree(dirname)\n",
    "        sleep(2)\n",
    "    os.mkdir(dirname)"
   ]
  },
  {
   "cell_type": "code",
   "execution_count": 13,
   "metadata": {},
   "outputs": [],
   "source": [
    "def dirResize(src,dst):\n",
    "    myfiles=glob.glob(src+'/*.JPG')\n",
    "    emptydir(dst)\n",
    "    print(src+\"資料夾\")\n",
    "    print(\"Start\")\n",
    "    for f in myfiles:\n",
    "        fname=f.split(\"\\\\\")[-1]\n",
    "        print(fname)\n",
    "        img=Image.open(f)\n",
    "        img_new=img.resize((300,255),PIL.Image.ANTIALIAS)\n",
    "        img_new.save(dst+'/'+fname)\n",
    "    print(\"end\")"
   ]
  },
  {
   "cell_type": "code",
   "execution_count": 14,
   "metadata": {},
   "outputs": [
    {
     "data": {
      "text/plain": [
       "'C:\\\\Users\\\\perry\\\\CV'"
      ]
     },
     "execution_count": 14,
     "metadata": {},
     "output_type": "execute_result"
    }
   ],
   "source": [
    "#當前目錄\n",
    "os.getcwd()"
   ]
  },
  {
   "cell_type": "code",
   "execution_count": 15,
   "metadata": {},
   "outputs": [
    {
     "name": "stdout",
     "output_type": "stream",
     "text": [
      "predictPlate_sr資料夾\n",
      "Start\n",
      "0655VN.jpg\n",
      "1710YC.jpg\n",
      "1923LM.jpg\n",
      "3322NH.jpg\n",
      "3M6605.jpg\n",
      "6508ZJ.jpg\n",
      "7569YM.jpg\n",
      "9060J5.jpg\n",
      "ACC7558.jpg\n",
      "AGC7052.jpg\n",
      "AGK3379.jpg\n",
      "AHH9997.jpg\n",
      "AKK7771.jpg\n",
      "AKW6596.jpg\n",
      "AXN6051.jpg\n",
      "end\n"
     ]
    }
   ],
   "source": [
    "#另存其他資料夾\n",
    "dirResize('predictPlate_sr','C:/Users/perry/CV/ch04/predictPlate')"
   ]
  },
  {
   "cell_type": "code",
   "execution_count": null,
   "metadata": {},
   "outputs": [],
   "source": [
    "#擷取物件\n",
    "print(\"Start\")\n",
    "#新建資料夾\n",
    "dstdir='croPlate'\n",
    "emptydir(dstdir)\n",
    "myfiles=glob.glob(\"predictPlate\\*.JPG\")"
   ]
  }
 ],
 "metadata": {
  "kernelspec": {
   "display_name": "Python 3",
   "language": "python",
   "name": "python3"
  },
  "language_info": {
   "codemirror_mode": {
    "name": "ipython",
    "version": 3
   },
   "file_extension": ".py",
   "mimetype": "text/x-python",
   "name": "python",
   "nbconvert_exporter": "python",
   "pygments_lexer": "ipython3",
   "version": "3.7.1"
  }
 },
 "nbformat": 4,
 "nbformat_minor": 2
}
